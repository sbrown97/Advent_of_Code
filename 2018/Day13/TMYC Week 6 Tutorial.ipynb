{
 "cells": [
  {
   "cell_type": "markdown",
   "metadata": {},
   "source": [
    "# Day 13: Mine Cart Madness\n",
    "\n",
    "https://adventofcode.com/2018/day/13"
   ]
  },
  {
   "cell_type": "markdown",
   "metadata": {},
   "source": [
    "## Intro to Simulation\n",
    "\n",
    "**Common types of simulation:**\n",
    "\n",
    "1. *Discrete Event Simulations*: systems where events occur at specific, separable times. Often utilize queuing theory to manage events and jump through time\n",
    "\n",
    "\n",
    "2. *Monte Carlo Simulations*: rely on repeated random sampling from probability distributions.\n",
    "\n",
    "\n",
    "3. *Agent Based Modeling*: focuses on the behavior and interactions of agents that can interact and communicate with eachother.\n",
    "\n",
    "\n",
    "**Important concepts:**\n",
    "- *State:* attributes describing the system\n",
    "- *Event:* something that happends at a point in time to alter the system's state\n",
    "- *Agents:* independent entities that have attributes, goals, and behaviors\n",
    "- *Environment:* system in which the agents exist and operate, can have global state variables \n",
    "- *Order of Evaluation:* in what order are events/agents evaluated\n",
    "- *stopping Criteria:* when should the simulation end?"
   ]
  },
  {
   "cell_type": "markdown",
   "metadata": {},
   "source": [
    "# Example Simulation\n",
    "I want to be able to simulate carts moving on a horizontal line. Carts will be defined by a starting X coordinate, and whether they are facing left or right. Each time step each cart will move 1 position in the direction they are facing."
   ]
  },
  {
   "cell_type": "code",
   "execution_count": 1,
   "metadata": {},
   "outputs": [],
   "source": [
    "from IPython.display import display, clear_output\n",
    "import matplotlib.pyplot as plt"
   ]
  },
  {
   "cell_type": "code",
   "execution_count": 4,
   "metadata": {},
   "outputs": [],
   "source": [
    "class Cart:\n",
    "    def __init__(self,symbol,x,direction):\n",
    "        \"\"\"create a cart a position x moving in a given direction\"\"\"\n",
    "        self.symbol = symbol # icon for displaying the cart\n",
    "        self.x = x # x coordinate\n",
    "        self.direction = direction # +1 if cart is facing right -1 if facing left\n",
    "\n",
    "    def step(self):\n",
    "        \"\"\"Execute one step for this cart\"\"\"\n",
    "        self.x += self.direction # move the cart in the direction it is facing"
   ]
  },
  {
   "cell_type": "code",
   "execution_count": 5,
   "metadata": {},
   "outputs": [],
   "source": [
    "def update_ax(ax,carts,steps):\n",
    "    \"\"\" helper function to plot all carts positions, using their symbol, on a horizontal line\"\"\"\n",
    "    \n",
    "    # clear and set up plot\n",
    "    ax.cla()\n",
    "    ax.set_xlim(0, steps+1)\n",
    "    ax.set_ylim(0,2)\n",
    "    ax.axis('off')\n",
    "    \n",
    "    # plot \n",
    "    ax.plot(range(steps+1),[1]*(steps+1),color='black')\n",
    "    \n",
    "    for c in carts:\n",
    "        ax.plot(c.x, 1,marker=c.symbol)\n",
    "    \n",
    "    return ax\n",
    "\n",
    "def run_simulation(carts,steps):\n",
    "    \"\"\" run the simulation for the specified number of time steps\"\"\"\n",
    "    \n",
    "    # set up display\n",
    "    fig = plt.figure()\n",
    "    ax = fig.add_subplot(1, 1, 1)\n",
    "    \n",
    "    # display all cart positions\n",
    "    ax = update_ax(ax,carts,steps)\n",
    "    display(fig)\n",
    "    clear_output(wait = True)\n",
    "    plt.pause(0.5)\n",
    "        \n",
    "    for t in range(steps): # for each time step\n",
    "            \n",
    "        for c in carts: # for each cart\n",
    "            \n",
    "            c.step() # execute a step for the cart\n",
    "            \n",
    "            # dispaly all cart positions\n",
    "            ax = update_ax(ax,carts,steps)\n",
    "            display(fig)\n",
    "            clear_output(wait=True)\n",
    "            plt.pause(0.5)"
   ]
  },
  {
   "cell_type": "code",
   "execution_count": 6,
   "metadata": {},
   "outputs": [
    {
     "data": {
      "image/png": "[encoded data removed]",
      "text/plain": [
       "<Figure size 640x480 with 1 Axes>"
      ]
     },
     "metadata": {},
     "output_type": "display_data"
    }
   ],
   "source": [
    "\"\"\" 1 cart moving right \"\"\"\n",
    "\n",
    "cart1 = Cart('>',0,1)\n",
    "\n",
    "run_simulation([cart1],20)"
   ]
  },
  {
   "cell_type": "code",
   "execution_count": 7,
   "metadata": {},
   "outputs": [
    {
     "data": {
      "image/png": "[encoded data removed]",
      "text/plain": [
       "<Figure size 640x480 with 1 Axes>"
      ]
     },
     "metadata": {},
     "output_type": "display_data"
    }
   ],
   "source": [
    "\"\"\" 2 carts moving towards eachother\"\"\"\n",
    "cart1 = Cart('>',0,1)\n",
    "cart2 = Cart('<',20,-1)\n",
    "carts = [cart1,cart2]\n",
    "\n",
    "run_simulation(carts,20)"
   ]
  },
  {
   "cell_type": "code",
   "execution_count": 8,
   "metadata": {},
   "outputs": [],
   "source": [
    "\"\"\" where do the 2 carts collide?\"\"\"\n",
    "from collections import Counter\n",
    "\n",
    "def run_simulation_collide(carts,steps):\n",
    "    \"\"\" run the simulation for the specified number of time steps\"\"\"\n",
    "    \n",
    "    # set up display\n",
    "    fig = plt.figure()\n",
    "    ax = fig.add_subplot(1, 1, 1)\n",
    "    \n",
    "    # display all cart positions\n",
    "    ax = update_ax(ax,carts,steps)\n",
    "    display(fig)\n",
    "    clear_output(wait = True)\n",
    "    plt.pause(0.5)\n",
    "        \n",
    "    for t in range(steps): # for each time step\n",
    "            \n",
    "        for c in carts: # for each cart\n",
    "            \n",
    "            c.step() # execute a step for the cart\n",
    "            \n",
    "            # dispaly all cart positions\n",
    "            ax = update_ax(ax,carts,steps)\n",
    "            display(fig)\n",
    "            clear_output(wait=True)\n",
    "            plt.pause(0.5)\n",
    "            \n",
    "            # check if this cart has collided with another cart\n",
    "            for c2 in carts:\n",
    "                if (c2 != c) and (c2.x == c.x):\n",
    "                    print(f'Collision at position {c.x} in time step {t}!')\n",
    "                    display(fig)\n",
    "                    \n",
    "                    return # end the simulation early"
   ]
  },
  {
   "cell_type": "code",
   "execution_count": 9,
   "metadata": {},
   "outputs": [
    {
     "name": "stdout",
     "output_type": "stream",
     "text": [
      "Collision at position 10 in time step 9!\n"
     ]
    },
    {
     "data": {
      "image/png": "[encoded data removed]",
      "text/plain": [
       "<Figure size 640x480 with 1 Axes>"
      ]
     },
     "metadata": {},
     "output_type": "display_data"
    }
   ],
   "source": [
    "\"\"\" 2 carts moving towards eachother\"\"\"\n",
    "cart1 = Cart('>',0,1)\n",
    "cart2 = Cart('<',20,-1)\n",
    "carts = [cart1,cart2]\n",
    "\n",
    "run_simulation_collide(carts,20)"
   ]
  },
  {
   "cell_type": "code",
   "execution_count": 10,
   "metadata": {},
   "outputs": [
    {
     "data": {
      "image/png": "[encoded data removed]",
      "text/plain": [
       "<Figure size 640x480 with 1 Axes>"
      ]
     },
     "metadata": {},
     "output_type": "display_data"
    }
   ],
   "source": [
    "\"\"\"2 carts moving same direction\"\"\"\n",
    "cart1 = Cart('>',1,1)\n",
    "cart2 = Cart('>',0,1)\n",
    "carts = [cart1,cart2]\n",
    "\n",
    "run_simulation(carts,20)"
   ]
  },
  {
   "cell_type": "code",
   "execution_count": 12,
   "metadata": {},
   "outputs": [
    {
     "name": "stdout",
     "output_type": "stream",
     "text": [
      "Collision at position 1 in time step 0!\n"
     ]
    },
    {
     "data": {
      "image/png": "[encoded data removed]",
      "text/plain": [
       "<Figure size 640x480 with 1 Axes>"
      ]
     },
     "metadata": {},
     "output_type": "display_data"
    }
   ],
   "source": [
    "# order matters!!\n",
    "cart1 = Cart('>',1,1)\n",
    "cart2 = Cart('>',0,1)\n",
    "carts = [cart2,cart1] # flip the order that they will be updated\n",
    "\n",
    "run_simulation_collide(carts,20)"
   ]
  },
  {
   "cell_type": "code",
   "execution_count": null,
   "metadata": {},
   "outputs": [],
   "source": []
  }
 ],
 "metadata": {
  "kernelspec": {
   "display_name": "Python 3 (ipykernel)",
   "language": "python",
   "name": "python3"
  },
  "language_info": {
   "codemirror_mode": {
    "name": "ipython",
    "version": 3
   },
   "file_extension": ".py",
   "mimetype": "text/x-python",
   "name": "python",
   "nbconvert_exporter": "python",
   "pygments_lexer": "ipython3",
   "version": "3.7.3"
  }
 },
 "nbformat": 4,
 "nbformat_minor": 2
}
