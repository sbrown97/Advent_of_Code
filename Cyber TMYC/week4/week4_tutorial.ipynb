{
 "cells": [
  {
   "cell_type": "markdown",
   "id": "55655090",
   "metadata": {},
   "source": [
    "## Week 4 Tutorial - Hashing Functions"
   ]
  },
  {
   "cell_type": "markdown",
   "id": "f828b56e",
   "metadata": {},
   "source": [
    "Using hashlib to apply the SHA-1 hashing algorith to a password"
   ]
  },
  {
   "cell_type": "code",
   "execution_count": 14,
   "id": "e60f7b50",
   "metadata": {},
   "outputs": [],
   "source": [
    "import hashlib"
   ]
  },
  {
   "cell_type": "code",
   "execution_count": 15,
   "id": "a6eac59a",
   "metadata": {},
   "outputs": [
    {
     "data": {
      "text/plain": [
       "'!TMYC2025!'"
      ]
     },
     "execution_count": 15,
     "metadata": {},
     "output_type": "execute_result"
    }
   ],
   "source": [
    "password = '!TMYC2025!'\n",
    "password"
   ]
  },
  {
   "cell_type": "code",
   "execution_count": 16,
   "id": "27752326",
   "metadata": {},
   "outputs": [
    {
     "data": {
      "text/plain": [
       "b'!TMYC2025!'"
      ]
     },
     "execution_count": 16,
     "metadata": {},
     "output_type": "execute_result"
    }
   ],
   "source": [
    "encoded_password = password.encode('utf-8')\n",
    "encoded_password"
   ]
  },
  {
   "cell_type": "code",
   "execution_count": 17,
   "id": "233f6ca1",
   "metadata": {},
   "outputs": [
    {
     "data": {
      "text/plain": [
       "<sha1 _hashlib.HASH object @ 0x00000288BD5FAB90>"
      ]
     },
     "execution_count": 17,
     "metadata": {},
     "output_type": "execute_result"
    }
   ],
   "source": [
    "hashed_password = hashlib.sha1(encoded_password)\n",
    "hashed_password"
   ]
  },
  {
   "cell_type": "code",
   "execution_count": 18,
   "id": "454f3d3e",
   "metadata": {},
   "outputs": [
    {
     "data": {
      "text/plain": [
       "'edd7f5c3cbbdac6a1d3aae3b0dbae0e975f56413'"
      ]
     },
     "execution_count": 18,
     "metadata": {},
     "output_type": "execute_result"
    }
   ],
   "source": [
    "hashed_password.hexdigest()"
   ]
  },
  {
   "cell_type": "markdown",
   "id": "2d1219a3",
   "metadata": {},
   "source": [
    "Alternate hashing algorithms"
   ]
  },
  {
   "cell_type": "code",
   "execution_count": 19,
   "id": "fe428854",
   "metadata": {},
   "outputs": [
    {
     "name": "stdout",
     "output_type": "stream",
     "text": [
      "SHA-1 hash: edd7f5c3cbbdac6a1d3aae3b0dbae0e975f56413\n",
      "SHA-256 hash: 6a8982572c7a1caa4a89232836a3ebf33785cf9da9079756ce842d71c7bf1e54\n",
      "SHA-512 hash: f36304521003ab238c5472a89a81c01d44ae13ed8196bf3185a3069724ce219375e80e9d2a3daa01fe2c12207d9315b462effee16dc6a9c9a41f58057bccb7c0\n",
      "Blake2b hash: 203b8e5a01eb375ced38fed7cbbc1fdbc4ab346c6562396c4324317f293571f481a0de56130159b186e7f8793b9d3d2388064082ab62e8e7070c797b610d5c51\n",
      "MD-5 hash: 0734950cc8ebafcc0c7c28a2ebae188c\n"
     ]
    }
   ],
   "source": [
    "hash = hashlib.sha1(encoded_password).hexdigest()\n",
    "print(f\"SHA-1 hash: {hash}\")\n",
    "\n",
    "hash = hashlib.sha256(encoded_password).hexdigest()\n",
    "print(f\"SHA-256 hash: {hash}\")\n",
    "\n",
    "hash = hashlib.sha512(encoded_password).hexdigest()\n",
    "print(f\"SHA-512 hash: {hash}\")\n",
    "\n",
    "hash = hashlib.blake2b(encoded_password).hexdigest()\n",
    "print(f\"Blake2b hash: {hash}\")\n",
    "\n",
    "hash = hashlib.md5(encoded_password).hexdigest()\n",
    "print(f\"MD-5 hash: {hash}\")\n",
    "\n"
   ]
  },
  {
   "cell_type": "code",
   "execution_count": null,
   "id": "f5ded77f",
   "metadata": {},
   "outputs": [],
   "source": []
  }
 ],
 "metadata": {
  "kernelspec": {
   "display_name": "Python 3",
   "language": "python",
   "name": "python3"
  },
  "language_info": {
   "codemirror_mode": {
    "name": "ipython",
    "version": 3
   },
   "file_extension": ".py",
   "mimetype": "text/x-python",
   "name": "python",
   "nbconvert_exporter": "python",
   "pygments_lexer": "ipython3",
   "version": "3.12.2"
  }
 },
 "nbformat": 4,
 "nbformat_minor": 5
}
